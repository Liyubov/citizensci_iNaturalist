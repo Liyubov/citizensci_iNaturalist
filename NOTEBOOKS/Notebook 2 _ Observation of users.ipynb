{
 "cells": [
  {
   "cell_type": "code",
   "execution_count": 1,
   "id": "c05aed99",
   "metadata": {},
   "outputs": [],
   "source": [
    "import numpy as np\n",
    "import pandas as pd\n",
    "import matplotlib.pyplot as plt\n",
    "import matplotlib as mpl\n",
    "mpl.rcParams['figure.dpi'] = 80\n",
    "import os\n"
   ]
  },
  {
   "cell_type": "code",
   "execution_count": 2,
   "id": "ddf6e335",
   "metadata": {},
   "outputs": [
    {
     "name": "stdout",
     "output_type": "stream",
     "text": [
      "['CNC_London_2018.csv', 'CNC_London_2019.csv', 'CNC_London_2020.csv', 'CNC_Los_Angeles_2018.csv', 'CNC_Los_Angeles_2019.csv', 'CNC_Los_Angeles_2020.csv', 'CNC_San_Francisco_2018.csv', 'CNC_San_Francisco_2019.csv', 'CNC_San_Francisco_2020.csv', 'observation', 'raw']\n"
     ]
    }
   ],
   "source": [
    "path = 'C:\\\\Users\\\\User\\\\Downloads\\\\citizen_science_inaturalist-main\\\\data'\n",
    "dir_list = os.listdir(path)\n",
    "print(dir_list)"
   ]
  },
  {
   "cell_type": "code",
   "execution_count": 3,
   "id": "060c0f44",
   "metadata": {},
   "outputs": [
    {
     "name": "stderr",
     "output_type": "stream",
     "text": [
      "C:\\Users\\User\\anaconda3\\lib\\site-packages\\IPython\\core\\interactiveshell.py:3165: DtypeWarning: Columns (13) have mixed types.Specify dtype option on import or set low_memory=False.\n",
      "  has_raised = await self.run_ast_nodes(code_ast.body, cell_name,\n"
     ]
    }
   ],
   "source": [
    "files = [f for f in os.listdir(path) if f.endswith('.csv')]\n",
    "\n",
    "london_files=[]\n",
    "angeles_files=[]\n",
    "francisco_files=[]\n",
    "\n",
    "for file in files:\n",
    "    \n",
    "    temp=pd.read_csv(path+'\\\\'+ file)\n",
    "    \n",
    "    if 'London' in file:    \n",
    "    \n",
    "        london_files.append(temp)\n",
    "    \n",
    "    elif 'Angeles' in file:\n",
    "        \n",
    "        angeles_files.append(temp)\n",
    "    \n",
    "    else:\n",
    "        \n",
    "        francisco_files.append(temp)\n",
    "\n",
    "london_df=pd.concat(london_files)\n",
    "angeles_df=pd.concat(angeles_files)\n",
    "francisco_df=pd.concat(francisco_files)\n",
    "#print(london_files)"
   ]
  },
  {
   "cell_type": "code",
   "execution_count": 4,
   "id": "ca432912",
   "metadata": {},
   "outputs": [
    {
     "data": {
      "text/plain": [
       "3"
      ]
     },
     "execution_count": 4,
     "metadata": {},
     "output_type": "execute_result"
    }
   ],
   "source": [
    "len(london_files)"
   ]
  },
  {
   "cell_type": "code",
   "execution_count": 5,
   "id": "fe25d6b2",
   "metadata": {},
   "outputs": [
    {
     "data": {
      "text/html": [
       "<div>\n",
       "<style scoped>\n",
       "    .dataframe tbody tr th:only-of-type {\n",
       "        vertical-align: middle;\n",
       "    }\n",
       "\n",
       "    .dataframe tbody tr th {\n",
       "        vertical-align: top;\n",
       "    }\n",
       "\n",
       "    .dataframe thead th {\n",
       "        text-align: right;\n",
       "    }\n",
       "</style>\n",
       "<table border=\"1\" class=\"dataframe\">\n",
       "  <thead>\n",
       "    <tr style=\"text-align: right;\">\n",
       "      <th></th>\n",
       "      <th>id</th>\n",
       "      <th>observed_on_string</th>\n",
       "      <th>observed_on</th>\n",
       "      <th>time_observed_at</th>\n",
       "      <th>time_zone</th>\n",
       "      <th>user_id</th>\n",
       "      <th>user_login</th>\n",
       "      <th>created_at</th>\n",
       "      <th>updated_at</th>\n",
       "      <th>quality_grade</th>\n",
       "      <th>...</th>\n",
       "      <th>geoprivacy</th>\n",
       "      <th>taxon_geoprivacy</th>\n",
       "      <th>coordinates_obscured</th>\n",
       "      <th>positioning_method</th>\n",
       "      <th>positioning_device</th>\n",
       "      <th>species_guess</th>\n",
       "      <th>scientific_name</th>\n",
       "      <th>common_name</th>\n",
       "      <th>iconic_taxon_name</th>\n",
       "      <th>taxon_id</th>\n",
       "    </tr>\n",
       "  </thead>\n",
       "  <tbody>\n",
       "    <tr>\n",
       "      <th>0</th>\n",
       "      <td>11479007</td>\n",
       "      <td>2018-04-27 7:52:34 am BST</td>\n",
       "      <td>2018-04-27</td>\n",
       "      <td>2018-04-27 07:52:34 UTC</td>\n",
       "      <td>UTC</td>\n",
       "      <td>159021</td>\n",
       "      <td>muki</td>\n",
       "      <td>2018-04-27 07:06:17 UTC</td>\n",
       "      <td>2018-04-27 09:26:56 UTC</td>\n",
       "      <td>research</td>\n",
       "      <td>...</td>\n",
       "      <td>NaN</td>\n",
       "      <td>NaN</td>\n",
       "      <td>False</td>\n",
       "      <td>gps</td>\n",
       "      <td>gps</td>\n",
       "      <td>lesser celandine</td>\n",
       "      <td>Ficaria verna</td>\n",
       "      <td>lesser celandine</td>\n",
       "      <td>Plantae</td>\n",
       "      <td>204321.0</td>\n",
       "    </tr>\n",
       "    <tr>\n",
       "      <th>1</th>\n",
       "      <td>11480212</td>\n",
       "      <td>2018-04-27 8:39:41 am BST</td>\n",
       "      <td>2018-04-27</td>\n",
       "      <td>2018-04-27 07:39:41 UTC</td>\n",
       "      <td>London</td>\n",
       "      <td>664459</td>\n",
       "      <td>lucyrobinsonnhm</td>\n",
       "      <td>2018-04-27 08:02:52 UTC</td>\n",
       "      <td>2019-01-29 21:16:34 UTC</td>\n",
       "      <td>research</td>\n",
       "      <td>...</td>\n",
       "      <td>NaN</td>\n",
       "      <td>open</td>\n",
       "      <td>False</td>\n",
       "      <td>gps</td>\n",
       "      <td>gps</td>\n",
       "      <td>Pigeon biset domestique</td>\n",
       "      <td>Columba livia domestica</td>\n",
       "      <td>Feral Pigeon</td>\n",
       "      <td>Aves</td>\n",
       "      <td>122767.0</td>\n",
       "    </tr>\n",
       "    <tr>\n",
       "      <th>2</th>\n",
       "      <td>11480902</td>\n",
       "      <td>Fri Apr 27 2018 08:34:31 GMT+0100 (GMT+1)</td>\n",
       "      <td>2018-04-27</td>\n",
       "      <td>2018-04-27 06:34:31 UTC</td>\n",
       "      <td>Amsterdam</td>\n",
       "      <td>908315</td>\n",
       "      <td>tess26</td>\n",
       "      <td>2018-04-27 08:42:01 UTC</td>\n",
       "      <td>2018-04-27 11:01:49 UTC</td>\n",
       "      <td>casual</td>\n",
       "      <td>...</td>\n",
       "      <td>NaN</td>\n",
       "      <td>NaN</td>\n",
       "      <td>False</td>\n",
       "      <td>NaN</td>\n",
       "      <td>NaN</td>\n",
       "      <td>NaN</td>\n",
       "      <td>Hyacinthoides hispanica</td>\n",
       "      <td>Spanish Bluebell</td>\n",
       "      <td>Plantae</td>\n",
       "      <td>57635.0</td>\n",
       "    </tr>\n",
       "    <tr>\n",
       "      <th>3</th>\n",
       "      <td>11481097</td>\n",
       "      <td>Fri Apr 27 2018 09:54:35 GMT+0100 (GMT+1)</td>\n",
       "      <td>2018-04-27</td>\n",
       "      <td>2018-04-27 07:54:35 UTC</td>\n",
       "      <td>Amsterdam</td>\n",
       "      <td>796473</td>\n",
       "      <td>bryonycross</td>\n",
       "      <td>2018-04-27 08:54:45 UTC</td>\n",
       "      <td>2018-04-27 20:23:41 UTC</td>\n",
       "      <td>research</td>\n",
       "      <td>...</td>\n",
       "      <td>NaN</td>\n",
       "      <td>NaN</td>\n",
       "      <td>False</td>\n",
       "      <td>NaN</td>\n",
       "      <td>NaN</td>\n",
       "      <td>Green Alkanet</td>\n",
       "      <td>Pentaglottis sempervirens</td>\n",
       "      <td>Green Alkanet</td>\n",
       "      <td>Plantae</td>\n",
       "      <td>166466.0</td>\n",
       "    </tr>\n",
       "    <tr>\n",
       "      <th>4</th>\n",
       "      <td>11482247</td>\n",
       "      <td>2018-04-27 8:42:21 am BST</td>\n",
       "      <td>2018-04-27</td>\n",
       "      <td>2018-04-27 07:42:21 UTC</td>\n",
       "      <td>London</td>\n",
       "      <td>664459</td>\n",
       "      <td>lucyrobinsonnhm</td>\n",
       "      <td>2018-04-27 10:09:55 UTC</td>\n",
       "      <td>2018-04-27 15:37:31 UTC</td>\n",
       "      <td>research</td>\n",
       "      <td>...</td>\n",
       "      <td>NaN</td>\n",
       "      <td>NaN</td>\n",
       "      <td>False</td>\n",
       "      <td>gps</td>\n",
       "      <td>gps</td>\n",
       "      <td>London Plane</td>\n",
       "      <td>Platanus × hispanica</td>\n",
       "      <td>London Plane</td>\n",
       "      <td>Plantae</td>\n",
       "      <td>552449.0</td>\n",
       "    </tr>\n",
       "  </tbody>\n",
       "</table>\n",
       "<p>5 rows × 34 columns</p>\n",
       "</div>"
      ],
      "text/plain": [
       "         id                         observed_on_string observed_on  \\\n",
       "0  11479007                  2018-04-27 7:52:34 am BST  2018-04-27   \n",
       "1  11480212                  2018-04-27 8:39:41 am BST  2018-04-27   \n",
       "2  11480902  Fri Apr 27 2018 08:34:31 GMT+0100 (GMT+1)  2018-04-27   \n",
       "3  11481097  Fri Apr 27 2018 09:54:35 GMT+0100 (GMT+1)  2018-04-27   \n",
       "4  11482247                  2018-04-27 8:42:21 am BST  2018-04-27   \n",
       "\n",
       "          time_observed_at  time_zone  user_id       user_login  \\\n",
       "0  2018-04-27 07:52:34 UTC        UTC   159021             muki   \n",
       "1  2018-04-27 07:39:41 UTC     London   664459  lucyrobinsonnhm   \n",
       "2  2018-04-27 06:34:31 UTC  Amsterdam   908315           tess26   \n",
       "3  2018-04-27 07:54:35 UTC  Amsterdam   796473      bryonycross   \n",
       "4  2018-04-27 07:42:21 UTC     London   664459  lucyrobinsonnhm   \n",
       "\n",
       "                created_at               updated_at quality_grade  ...  \\\n",
       "0  2018-04-27 07:06:17 UTC  2018-04-27 09:26:56 UTC      research  ...   \n",
       "1  2018-04-27 08:02:52 UTC  2019-01-29 21:16:34 UTC      research  ...   \n",
       "2  2018-04-27 08:42:01 UTC  2018-04-27 11:01:49 UTC        casual  ...   \n",
       "3  2018-04-27 08:54:45 UTC  2018-04-27 20:23:41 UTC      research  ...   \n",
       "4  2018-04-27 10:09:55 UTC  2018-04-27 15:37:31 UTC      research  ...   \n",
       "\n",
       "  geoprivacy taxon_geoprivacy coordinates_obscured positioning_method  \\\n",
       "0        NaN              NaN                False                gps   \n",
       "1        NaN             open                False                gps   \n",
       "2        NaN              NaN                False                NaN   \n",
       "3        NaN              NaN                False                NaN   \n",
       "4        NaN              NaN                False                gps   \n",
       "\n",
       "  positioning_device            species_guess            scientific_name  \\\n",
       "0                gps         lesser celandine              Ficaria verna   \n",
       "1                gps  Pigeon biset domestique    Columba livia domestica   \n",
       "2                NaN                      NaN    Hyacinthoides hispanica   \n",
       "3                NaN            Green Alkanet  Pentaglottis sempervirens   \n",
       "4                gps             London Plane       Platanus × hispanica   \n",
       "\n",
       "        common_name  iconic_taxon_name  taxon_id  \n",
       "0  lesser celandine            Plantae  204321.0  \n",
       "1      Feral Pigeon               Aves  122767.0  \n",
       "2  Spanish Bluebell            Plantae   57635.0  \n",
       "3     Green Alkanet            Plantae  166466.0  \n",
       "4      London Plane            Plantae  552449.0  \n",
       "\n",
       "[5 rows x 34 columns]"
      ]
     },
     "execution_count": 5,
     "metadata": {},
     "output_type": "execute_result"
    }
   ],
   "source": [
    "london_df.head()"
   ]
  },
  {
   "cell_type": "code",
   "execution_count": 6,
   "id": "291e35e1",
   "metadata": {},
   "outputs": [
    {
     "data": {
      "text/html": [
       "<div>\n",
       "<style scoped>\n",
       "    .dataframe tbody tr th:only-of-type {\n",
       "        vertical-align: middle;\n",
       "    }\n",
       "\n",
       "    .dataframe tbody tr th {\n",
       "        vertical-align: top;\n",
       "    }\n",
       "\n",
       "    .dataframe thead th {\n",
       "        text-align: right;\n",
       "    }\n",
       "</style>\n",
       "<table border=\"1\" class=\"dataframe\">\n",
       "  <thead>\n",
       "    <tr style=\"text-align: right;\">\n",
       "      <th></th>\n",
       "      <th>id</th>\n",
       "      <th>observed_on_string</th>\n",
       "      <th>observed_on</th>\n",
       "      <th>time_observed_at</th>\n",
       "      <th>time_zone</th>\n",
       "      <th>user_id</th>\n",
       "      <th>user_login</th>\n",
       "      <th>created_at</th>\n",
       "      <th>updated_at</th>\n",
       "      <th>quality_grade</th>\n",
       "      <th>...</th>\n",
       "      <th>geoprivacy</th>\n",
       "      <th>taxon_geoprivacy</th>\n",
       "      <th>coordinates_obscured</th>\n",
       "      <th>positioning_method</th>\n",
       "      <th>positioning_device</th>\n",
       "      <th>species_guess</th>\n",
       "      <th>scientific_name</th>\n",
       "      <th>common_name</th>\n",
       "      <th>iconic_taxon_name</th>\n",
       "      <th>taxon_id</th>\n",
       "    </tr>\n",
       "  </thead>\n",
       "  <tbody>\n",
       "    <tr>\n",
       "      <th>0</th>\n",
       "      <td>11421522</td>\n",
       "      <td>Mon Apr 30 2018 16:05:01 GMT-0700 (PDT)</td>\n",
       "      <td>2018-04-30</td>\n",
       "      <td>2018-04-30 23:05:01 UTC</td>\n",
       "      <td>Pacific Time (US &amp; Canada)</td>\n",
       "      <td>898721</td>\n",
       "      <td>parallelbear</td>\n",
       "      <td>2018-04-25 16:01:33 UTC</td>\n",
       "      <td>2018-04-30 23:05:54 UTC</td>\n",
       "      <td>casual</td>\n",
       "      <td>...</td>\n",
       "      <td>NaN</td>\n",
       "      <td>NaN</td>\n",
       "      <td>False</td>\n",
       "      <td>NaN</td>\n",
       "      <td>NaN</td>\n",
       "      <td>NaN</td>\n",
       "      <td>Magnolia grandiflora</td>\n",
       "      <td>southern magnolia</td>\n",
       "      <td>Plantae</td>\n",
       "      <td>83074.0</td>\n",
       "    </tr>\n",
       "    <tr>\n",
       "      <th>1</th>\n",
       "      <td>11478879</td>\n",
       "      <td>Fri Apr 27 2018 00:01:10 GMT-0700 (PDT)</td>\n",
       "      <td>2018-04-27</td>\n",
       "      <td>2018-04-27 07:01:10 UTC</td>\n",
       "      <td>Pacific Time (US &amp; Canada)</td>\n",
       "      <td>28</td>\n",
       "      <td>tiwane</td>\n",
       "      <td>2018-04-27 07:01:40 UTC</td>\n",
       "      <td>2018-04-27 07:01:47 UTC</td>\n",
       "      <td>needs_id</td>\n",
       "      <td>...</td>\n",
       "      <td>obscured</td>\n",
       "      <td>NaN</td>\n",
       "      <td>True</td>\n",
       "      <td>NaN</td>\n",
       "      <td>NaN</td>\n",
       "      <td>NaN</td>\n",
       "      <td>Chironomidae</td>\n",
       "      <td>Non-biting Midges</td>\n",
       "      <td>Insecta</td>\n",
       "      <td>53275.0</td>\n",
       "    </tr>\n",
       "    <tr>\n",
       "      <th>2</th>\n",
       "      <td>11478904</td>\n",
       "      <td>Fri Apr 27 2018 00:02:28 GMT-0700 (PDT)</td>\n",
       "      <td>2018-04-27</td>\n",
       "      <td>2018-04-27 07:02:28 UTC</td>\n",
       "      <td>Pacific Time (US &amp; Canada)</td>\n",
       "      <td>28</td>\n",
       "      <td>tiwane</td>\n",
       "      <td>2018-04-27 07:02:40 UTC</td>\n",
       "      <td>2019-04-24 14:31:07 UTC</td>\n",
       "      <td>research</td>\n",
       "      <td>...</td>\n",
       "      <td>obscured</td>\n",
       "      <td>NaN</td>\n",
       "      <td>True</td>\n",
       "      <td>NaN</td>\n",
       "      <td>NaN</td>\n",
       "      <td>Filter Fly</td>\n",
       "      <td>Clogmia albipunctata</td>\n",
       "      <td>Bathroom Moth Midge</td>\n",
       "      <td>Insecta</td>\n",
       "      <td>258813.0</td>\n",
       "    </tr>\n",
       "    <tr>\n",
       "      <th>3</th>\n",
       "      <td>11478940</td>\n",
       "      <td>Fri Apr 27 2018 00:03:19 GMT-0700 (PDT)</td>\n",
       "      <td>2018-04-27</td>\n",
       "      <td>2018-04-27 07:03:19 UTC</td>\n",
       "      <td>Pacific Time (US &amp; Canada)</td>\n",
       "      <td>28</td>\n",
       "      <td>tiwane</td>\n",
       "      <td>2018-04-27 07:03:37 UTC</td>\n",
       "      <td>2018-04-28 02:45:17 UTC</td>\n",
       "      <td>research</td>\n",
       "      <td>...</td>\n",
       "      <td>obscured</td>\n",
       "      <td>NaN</td>\n",
       "      <td>True</td>\n",
       "      <td>NaN</td>\n",
       "      <td>NaN</td>\n",
       "      <td>Annual Meadow-grass</td>\n",
       "      <td>Poa annua</td>\n",
       "      <td>Annual Meadow-grass</td>\n",
       "      <td>Plantae</td>\n",
       "      <td>52808.0</td>\n",
       "    </tr>\n",
       "    <tr>\n",
       "      <th>4</th>\n",
       "      <td>11478955</td>\n",
       "      <td>Fri Apr 27 2018 00:03:47 GMT-0700 (PDT)</td>\n",
       "      <td>2018-04-27</td>\n",
       "      <td>2018-04-27 07:03:47 UTC</td>\n",
       "      <td>Pacific Time (US &amp; Canada)</td>\n",
       "      <td>28</td>\n",
       "      <td>tiwane</td>\n",
       "      <td>2018-04-27 07:04:11 UTC</td>\n",
       "      <td>2018-04-27 07:49:44 UTC</td>\n",
       "      <td>research</td>\n",
       "      <td>...</td>\n",
       "      <td>obscured</td>\n",
       "      <td>NaN</td>\n",
       "      <td>True</td>\n",
       "      <td>NaN</td>\n",
       "      <td>NaN</td>\n",
       "      <td>common groundsel</td>\n",
       "      <td>Senecio vulgaris</td>\n",
       "      <td>common groundsel</td>\n",
       "      <td>Plantae</td>\n",
       "      <td>53211.0</td>\n",
       "    </tr>\n",
       "  </tbody>\n",
       "</table>\n",
       "<p>5 rows × 34 columns</p>\n",
       "</div>"
      ],
      "text/plain": [
       "         id                       observed_on_string observed_on  \\\n",
       "0  11421522  Mon Apr 30 2018 16:05:01 GMT-0700 (PDT)  2018-04-30   \n",
       "1  11478879  Fri Apr 27 2018 00:01:10 GMT-0700 (PDT)  2018-04-27   \n",
       "2  11478904  Fri Apr 27 2018 00:02:28 GMT-0700 (PDT)  2018-04-27   \n",
       "3  11478940  Fri Apr 27 2018 00:03:19 GMT-0700 (PDT)  2018-04-27   \n",
       "4  11478955  Fri Apr 27 2018 00:03:47 GMT-0700 (PDT)  2018-04-27   \n",
       "\n",
       "          time_observed_at                   time_zone  user_id    user_login  \\\n",
       "0  2018-04-30 23:05:01 UTC  Pacific Time (US & Canada)   898721  parallelbear   \n",
       "1  2018-04-27 07:01:10 UTC  Pacific Time (US & Canada)       28        tiwane   \n",
       "2  2018-04-27 07:02:28 UTC  Pacific Time (US & Canada)       28        tiwane   \n",
       "3  2018-04-27 07:03:19 UTC  Pacific Time (US & Canada)       28        tiwane   \n",
       "4  2018-04-27 07:03:47 UTC  Pacific Time (US & Canada)       28        tiwane   \n",
       "\n",
       "                created_at               updated_at quality_grade  ...  \\\n",
       "0  2018-04-25 16:01:33 UTC  2018-04-30 23:05:54 UTC        casual  ...   \n",
       "1  2018-04-27 07:01:40 UTC  2018-04-27 07:01:47 UTC      needs_id  ...   \n",
       "2  2018-04-27 07:02:40 UTC  2019-04-24 14:31:07 UTC      research  ...   \n",
       "3  2018-04-27 07:03:37 UTC  2018-04-28 02:45:17 UTC      research  ...   \n",
       "4  2018-04-27 07:04:11 UTC  2018-04-27 07:49:44 UTC      research  ...   \n",
       "\n",
       "  geoprivacy taxon_geoprivacy coordinates_obscured positioning_method  \\\n",
       "0        NaN              NaN                False                NaN   \n",
       "1   obscured              NaN                 True                NaN   \n",
       "2   obscured              NaN                 True                NaN   \n",
       "3   obscured              NaN                 True                NaN   \n",
       "4   obscured              NaN                 True                NaN   \n",
       "\n",
       "  positioning_device        species_guess       scientific_name  \\\n",
       "0                NaN                  NaN  Magnolia grandiflora   \n",
       "1                NaN                  NaN          Chironomidae   \n",
       "2                NaN           Filter Fly  Clogmia albipunctata   \n",
       "3                NaN  Annual Meadow-grass             Poa annua   \n",
       "4                NaN     common groundsel      Senecio vulgaris   \n",
       "\n",
       "           common_name  iconic_taxon_name  taxon_id  \n",
       "0    southern magnolia            Plantae   83074.0  \n",
       "1    Non-biting Midges            Insecta   53275.0  \n",
       "2  Bathroom Moth Midge            Insecta  258813.0  \n",
       "3  Annual Meadow-grass            Plantae   52808.0  \n",
       "4     common groundsel            Plantae   53211.0  \n",
       "\n",
       "[5 rows x 34 columns]"
      ]
     },
     "execution_count": 6,
     "metadata": {},
     "output_type": "execute_result"
    }
   ],
   "source": [
    "francisco_df.head()"
   ]
  },
  {
   "cell_type": "code",
   "execution_count": 7,
   "id": "ce5b39ab",
   "metadata": {},
   "outputs": [
    {
     "name": "stdout",
     "output_type": "stream",
     "text": [
      "Total observation in London: (13730, 34)\n",
      "Total observation in LA : (73342, 34)\n",
      "Total observation in SF: (114856, 34)\n"
     ]
    }
   ],
   "source": [
    "print('Total observation in London:',london_df.shape)\n",
    "print('Total observation in LA :',angeles_df.shape)\n",
    "print('Total observation in SF:',francisco_df.shape)"
   ]
  },
  {
   "cell_type": "code",
   "execution_count": 8,
   "id": "aa7199fc",
   "metadata": {},
   "outputs": [
    {
     "name": "stdout",
     "output_type": "stream",
     "text": [
      "13730\n",
      "34\n"
     ]
    }
   ],
   "source": [
    "count_row = london_df.shape[0]  # Gives number of rows\n",
    "count_col = london_df.shape[1] # Gives number of column\n",
    "print(count_row)\n",
    "print(count_col)"
   ]
  },
  {
   "cell_type": "code",
   "execution_count": 9,
   "id": "e2832637",
   "metadata": {},
   "outputs": [
    {
     "name": "stdout",
     "output_type": "stream",
     "text": [
      "Total observation in London: 13730\n",
      "Total observation in LA : 73342\n",
      "Total observation in SF: 114856\n"
     ]
    }
   ],
   "source": [
    "#all observation \n",
    "london_obs = len(london_df)\n",
    "print('Total observation in London:',london_obs)\n",
    "la_obs = len(angeles_df)\n",
    "print('Total observation in LA :',la_obs)\n",
    "fs_ob = len(francisco_df)\n",
    "print('Total observation in SF:',fs_ob)"
   ]
  },
  {
   "cell_type": "code",
   "execution_count": 10,
   "id": "7fcb9755",
   "metadata": {},
   "outputs": [
    {
     "name": "stdout",
     "output_type": "stream",
     "text": [
      "Total number of participants in London CNCs: 874\n",
      "Total number of participants in Los Angeles CNCs: 3605\n",
      "Total number of participants in San Fransisco CNCs: 5599\n"
     ]
    }
   ],
   "source": [
    "# count of different users who participated in the CNCs (counting each user only once, even if they participated in more than one challenge)\n",
    "users_unique_london = len(london_df['user_id'].value_counts())\n",
    "print('Total number of participants in London CNCs:', users_unique_london)\n",
    "users_unique_la = len(angeles_df['user_id'].value_counts())\n",
    "print('Total number of participants in Los Angeles CNCs:', users_unique_la)\n",
    "users_unique_sf = len(francisco_df['user_id'].value_counts())\n",
    "print('Total number of participants in San Fransisco CNCs:', users_unique_sf)\n"
   ]
  },
  {
   "cell_type": "code",
   "execution_count": 11,
   "id": "5a4018f8",
   "metadata": {},
   "outputs": [
    {
     "name": "stdout",
     "output_type": "stream",
     "text": [
      "     user_id  obs_count\n",
      "0     353381       1926\n",
      "1    1488476        448\n",
      "2     894051        320\n",
      "3    2782355        299\n",
      "4     923147        295\n",
      "..       ...        ...\n",
      "869  1404054          1\n",
      "870  2747382          1\n",
      "871  2827231          1\n",
      "872  2827183          1\n",
      "873  1847338          1\n",
      "\n",
      "[874 rows x 2 columns]\n",
      "      user_id  obs_count\n",
      "0       12809       2593\n",
      "1       34687       2459\n",
      "2      223005       2080\n",
      "3       81779       1638\n",
      "4      421748       1544\n",
      "...       ...        ...\n",
      "3600  1406628          1\n",
      "3601  2819407          1\n",
      "3602  1510884          1\n",
      "3603  2381076          1\n",
      "3604  2011158          1\n",
      "\n",
      "[3605 rows x 2 columns]\n",
      "      user_id  obs_count\n",
      "0        2991       1984\n",
      "1       34038       1725\n",
      "2        7302       1504\n",
      "3      179103       1405\n",
      "4       46415       1399\n",
      "...       ...        ...\n",
      "5594  1067103          1\n",
      "5595  1718481          1\n",
      "5596  1419591          1\n",
      "5597  1653041          1\n",
      "5598   172012          1\n",
      "\n",
      "[5599 rows x 2 columns]\n"
     ]
    }
   ],
   "source": [
    "london_obs_per_user = []\n",
    "angeles_obs_per_user = []\n",
    "fransisco_obs_per_user = []\n",
    "#London\n",
    "obs_per_user_london = london_df['user_id'].value_counts()\n",
    "obs_per_user_london = obs_per_user_london.rename_axis('user_id').reset_index(name='obs_count')\n",
    "print(obs_per_user_london)\n",
    "\n",
    "#Los Angeles \n",
    "obs_per_user_la =angeles_df['user_id'].value_counts()\n",
    "obs_per_user_la = obs_per_user_la.rename_axis('user_id').reset_index(name='obs_count')\n",
    "print(obs_per_user_la)\n",
    "\n",
    "#San Fransisco\n",
    "obs_per_user_sf =francisco_df['user_id'].value_counts()\n",
    "obs_per_user_sf = obs_per_user_sf.rename_axis('user_id').reset_index(name='obs_count')\n",
    "print(obs_per_user_sf)\n",
    "\n",
    "#Append to Dataframe \n",
    "london_obs_per_user.append(obs_per_user_london)\n",
    "angeles_obs_per_user.append(obs_per_user_sf)\n",
    "fransisco_obs_per_user.append(obs_per_user_sf)"
   ]
  },
  {
   "cell_type": "code",
   "execution_count": 12,
   "id": "c1f3f215",
   "metadata": {},
   "outputs": [
    {
     "data": {
      "text/html": [
       "<div>\n",
       "<style scoped>\n",
       "    .dataframe tbody tr th:only-of-type {\n",
       "        vertical-align: middle;\n",
       "    }\n",
       "\n",
       "    .dataframe tbody tr th {\n",
       "        vertical-align: top;\n",
       "    }\n",
       "\n",
       "    .dataframe thead th {\n",
       "        text-align: right;\n",
       "    }\n",
       "</style>\n",
       "<table border=\"1\" class=\"dataframe\">\n",
       "  <thead>\n",
       "    <tr style=\"text-align: right;\">\n",
       "      <th></th>\n",
       "      <th>user_id</th>\n",
       "      <th>obs_count</th>\n",
       "    </tr>\n",
       "  </thead>\n",
       "  <tbody>\n",
       "    <tr>\n",
       "      <th>0</th>\n",
       "      <td>353381</td>\n",
       "      <td>1926</td>\n",
       "    </tr>\n",
       "    <tr>\n",
       "      <th>1</th>\n",
       "      <td>1488476</td>\n",
       "      <td>448</td>\n",
       "    </tr>\n",
       "    <tr>\n",
       "      <th>2</th>\n",
       "      <td>894051</td>\n",
       "      <td>320</td>\n",
       "    </tr>\n",
       "    <tr>\n",
       "      <th>3</th>\n",
       "      <td>2782355</td>\n",
       "      <td>299</td>\n",
       "    </tr>\n",
       "    <tr>\n",
       "      <th>4</th>\n",
       "      <td>923147</td>\n",
       "      <td>295</td>\n",
       "    </tr>\n",
       "  </tbody>\n",
       "</table>\n",
       "</div>"
      ],
      "text/plain": [
       "   user_id  obs_count\n",
       "0   353381       1926\n",
       "1  1488476        448\n",
       "2   894051        320\n",
       "3  2782355        299\n",
       "4   923147        295"
      ]
     },
     "execution_count": 12,
     "metadata": {},
     "output_type": "execute_result"
    }
   ],
   "source": [
    "#London\n",
    "obs_per_user_london.head()"
   ]
  },
  {
   "cell_type": "code",
   "execution_count": 13,
   "id": "6bf8e0a8",
   "metadata": {},
   "outputs": [
    {
     "data": {
      "text/html": [
       "<div>\n",
       "<style scoped>\n",
       "    .dataframe tbody tr th:only-of-type {\n",
       "        vertical-align: middle;\n",
       "    }\n",
       "\n",
       "    .dataframe tbody tr th {\n",
       "        vertical-align: top;\n",
       "    }\n",
       "\n",
       "    .dataframe thead th {\n",
       "        text-align: right;\n",
       "    }\n",
       "</style>\n",
       "<table border=\"1\" class=\"dataframe\">\n",
       "  <thead>\n",
       "    <tr style=\"text-align: right;\">\n",
       "      <th></th>\n",
       "      <th>user_id</th>\n",
       "      <th>obs_count</th>\n",
       "    </tr>\n",
       "  </thead>\n",
       "  <tbody>\n",
       "    <tr>\n",
       "      <th>0</th>\n",
       "      <td>12809</td>\n",
       "      <td>2593</td>\n",
       "    </tr>\n",
       "    <tr>\n",
       "      <th>1</th>\n",
       "      <td>34687</td>\n",
       "      <td>2459</td>\n",
       "    </tr>\n",
       "    <tr>\n",
       "      <th>2</th>\n",
       "      <td>223005</td>\n",
       "      <td>2080</td>\n",
       "    </tr>\n",
       "    <tr>\n",
       "      <th>3</th>\n",
       "      <td>81779</td>\n",
       "      <td>1638</td>\n",
       "    </tr>\n",
       "    <tr>\n",
       "      <th>4</th>\n",
       "      <td>421748</td>\n",
       "      <td>1544</td>\n",
       "    </tr>\n",
       "  </tbody>\n",
       "</table>\n",
       "</div>"
      ],
      "text/plain": [
       "   user_id  obs_count\n",
       "0    12809       2593\n",
       "1    34687       2459\n",
       "2   223005       2080\n",
       "3    81779       1638\n",
       "4   421748       1544"
      ]
     },
     "execution_count": 13,
     "metadata": {},
     "output_type": "execute_result"
    }
   ],
   "source": [
    "obs_per_user_la.head()"
   ]
  },
  {
   "cell_type": "code",
   "execution_count": 14,
   "id": "917c4770",
   "metadata": {},
   "outputs": [
    {
     "data": {
      "text/html": [
       "<div>\n",
       "<style scoped>\n",
       "    .dataframe tbody tr th:only-of-type {\n",
       "        vertical-align: middle;\n",
       "    }\n",
       "\n",
       "    .dataframe tbody tr th {\n",
       "        vertical-align: top;\n",
       "    }\n",
       "\n",
       "    .dataframe thead th {\n",
       "        text-align: right;\n",
       "    }\n",
       "</style>\n",
       "<table border=\"1\" class=\"dataframe\">\n",
       "  <thead>\n",
       "    <tr style=\"text-align: right;\">\n",
       "      <th></th>\n",
       "      <th>user_id</th>\n",
       "      <th>obs_count</th>\n",
       "    </tr>\n",
       "  </thead>\n",
       "  <tbody>\n",
       "    <tr>\n",
       "      <th>0</th>\n",
       "      <td>2991</td>\n",
       "      <td>1984</td>\n",
       "    </tr>\n",
       "    <tr>\n",
       "      <th>1</th>\n",
       "      <td>34038</td>\n",
       "      <td>1725</td>\n",
       "    </tr>\n",
       "    <tr>\n",
       "      <th>2</th>\n",
       "      <td>7302</td>\n",
       "      <td>1504</td>\n",
       "    </tr>\n",
       "    <tr>\n",
       "      <th>3</th>\n",
       "      <td>179103</td>\n",
       "      <td>1405</td>\n",
       "    </tr>\n",
       "    <tr>\n",
       "      <th>4</th>\n",
       "      <td>46415</td>\n",
       "      <td>1399</td>\n",
       "    </tr>\n",
       "  </tbody>\n",
       "</table>\n",
       "</div>"
      ],
      "text/plain": [
       "   user_id  obs_count\n",
       "0     2991       1984\n",
       "1    34038       1725\n",
       "2     7302       1504\n",
       "3   179103       1405\n",
       "4    46415       1399"
      ]
     },
     "execution_count": 14,
     "metadata": {},
     "output_type": "execute_result"
    }
   ],
   "source": [
    "#San Francisco\n",
    "obs_per_user_sf.head()"
   ]
  },
  {
   "cell_type": "code",
   "execution_count": 15,
   "id": "9ce38f78",
   "metadata": {},
   "outputs": [],
   "source": [
    "import matplotlib.pyplot as plt\n",
    "%matplotlib inline"
   ]
  },
  {
   "cell_type": "code",
   "execution_count": 16,
   "id": "25ceb42c",
   "metadata": {},
   "outputs": [
    {
     "data": {
      "image/png": "[encoded data removed]",
      "text/plain": [
       "<Figure size 432x288 with 1 Axes>"
      ]
     },
     "metadata": {
      "needs_background": "light"
     },
     "output_type": "display_data"
    },
    {
     "data": {
      "image/png": "[encoded data removed]",
      "text/plain": [
       "<Figure size 432x288 with 1 Axes>"
      ]
     },
     "metadata": {
      "needs_background": "light"
     },
     "output_type": "display_data"
    },
    {
     "data": {
      "image/png": "[encoded data removed]",
      "text/plain": [
       "<Figure size 432x288 with 1 Axes>"
      ]
     },
     "metadata": {
      "needs_background": "light"
     },
     "output_type": "display_data"
    }
   ],
   "source": [
    "ax1 = obs_per_user_london.plot.scatter(x='obs_count', y='user_id', c='darkblue')\n",
    "plt.title('observation - London')\n",
    "plt.xlabel('observation count')\n",
    "plt.ylabel('frequency of observation') \n",
    "\n",
    "ax2 = obs_per_user_la.plot.scatter(x='obs_count', y='user_id', c='red')\n",
    "plt.title('observation - Los Angeles')\n",
    "plt.xlabel('observation count')\n",
    "plt.ylabel('frequency of observation') \n",
    "\n",
    "ax3 = obs_per_user_sf.plot.scatter(x='obs_count', y='user_id', c='green')\n",
    "plt.title('Observation - San Fransisco')\n",
    "plt.xlabel('observation count')\n",
    "plt.ylabel('frequency of observation') \n",
    "plt.show()\n"
   ]
  },
  {
   "cell_type": "code",
   "execution_count": 29,
   "id": "879dd3ac",
   "metadata": {},
   "outputs": [
    {
     "data": {
      "image/png": "[encoded data removed]",
      "text/plain": [
       "<Figure size 432x288 with 1 Axes>"
      ]
     },
     "metadata": {
      "needs_background": "light"
     },
     "output_type": "display_data"
    },
    {
     "data": {
      "image/png": "[encoded data removed]",
      "text/plain": [
       "<Figure size 432x288 with 1 Axes>"
      ]
     },
     "metadata": {
      "needs_background": "light"
     },
     "output_type": "display_data"
    },
    {
     "data": {
      "image/png": "[encoded data removed]",
      "text/plain": [
       "<Figure size 432x288 with 1 Axes>"
      ]
     },
     "metadata": {
      "needs_background": "light"
     },
     "output_type": "display_data"
    }
   ],
   "source": [
    "ax = obs_per_user_london.hist(column='obs_count',bins=100)\n",
    "plt.title('observation - London')\n",
    "plt.xlabel('observation count')\n",
    "plt.ylabel('frequency of observation') \n",
    "\n",
    "ax1 = obs_per_user_la.hist(column='obs_count',bins=30)\n",
    "plt.title('observation - Los Angeles')\n",
    "plt.xlabel('observation count')\n",
    "plt.ylabel('frequency of observation') \n",
    "\n",
    "ax2 = obs_per_user_sf.hist(column='obs_count',bins=30)\n",
    "plt.title('Observation - San Fransisco')\n",
    "plt.xlabel('observation count')\n",
    "plt.ylabel('frequency of observation') \n",
    "plt.show()"
   ]
  },
  {
   "cell_type": "code",
   "execution_count": 33,
   "id": "27422e52",
   "metadata": {},
   "outputs": [
    {
     "data": {
      "text/plain": [
       "<seaborn.axisgrid.FacetGrid at 0x22d2ea310a0>"
      ]
     },
     "execution_count": 33,
     "metadata": {},
     "output_type": "execute_result"
    },
    {
     "data": {
      "image/png": "[encoded data removed]",
      "text/plain": [
       "<Figure size 360x360 with 1 Axes>"
      ]
     },
     "metadata": {
      "needs_background": "light"
     },
     "output_type": "display_data"
    }
   ],
   "source": [
    "import seaborn as sns\n",
    "\n",
    "ax = sns.displot(data=obs_per_user_london, x=\"obs_count\", log_scale=True, bins=50)\n",
    "ax.set(xlabel='observation count', ylabel='user_observation',title=\"Count of User - London\")"
   ]
  },
  {
   "cell_type": "code",
   "execution_count": 34,
   "id": "33ff8339",
   "metadata": {},
   "outputs": [
    {
     "data": {
      "text/plain": [
       "<seaborn.axisgrid.FacetGrid at 0x22d333270a0>"
      ]
     },
     "execution_count": 34,
     "metadata": {},
     "output_type": "execute_result"
    },
    {
     "data": {
      "image/png": "[encoded data removed]",
      "text/plain": [
       "<Figure size 360x360 with 1 Axes>"
      ]
     },
     "metadata": {
      "needs_background": "light"
     },
     "output_type": "display_data"
    }
   ],
   "source": [
    "import seaborn as sns\n",
    "\n",
    "ax = sns.displot(data=obs_per_user_la, x=\"obs_count\", log_scale=True, bins=50)\n",
    "ax.set(xlabel='observation count', ylabel='user_observation',title=\"Count of User - Los Angeles\")"
   ]
  },
  {
   "cell_type": "code",
   "execution_count": 20,
   "id": "2e796d2d",
   "metadata": {},
   "outputs": [
    {
     "data": {
      "text/plain": [
       "<seaborn.axisgrid.FacetGrid at 0x22d354abb50>"
      ]
     },
     "execution_count": 20,
     "metadata": {},
     "output_type": "execute_result"
    },
    {
     "data": {
      "image/png": "[encoded data removed]",
      "text/plain": [
       "<Figure size 360x360 with 1 Axes>"
      ]
     },
     "metadata": {
      "needs_background": "light"
     },
     "output_type": "display_data"
    }
   ],
   "source": [
    "import seaborn as sns\n",
    "\n",
    "ax = sns.displot(data=obs_per_user_sf, x=\"obs_count\", log_scale=True)\n",
    "ax.set(xlabel='observation count', ylabel='user_observation',title=\"Count of User - San Fransisco\")"
   ]
  },
  {
   "cell_type": "code",
   "execution_count": 28,
   "id": "40cf73ad",
   "metadata": {},
   "outputs": [
    {
     "name": "stdout",
     "output_type": "stream",
     "text": [
      "Top 50% of users contribute 97% of observations\n",
      "Top 10% of users contribute 75% of observations\n",
      "Top 1% of users contribute 37% of observations\n"
     ]
    },
    {
     "data": {
      "image/png": "[encoded data removed]",
      "text/plain": [
       "<Figure size 720x360 with 1 Axes>"
      ]
     },
     "metadata": {
      "needs_background": "light"
     },
     "output_type": "display_data"
    }
   ],
   "source": [
    "fig = plt.figure(figsize=(10,5))\n",
    "user_counts = london_df.groupby(by='user_id').count()['id']\n",
    "cum_sum = np.cumsum(user_counts.sort_values())\n",
    "n_users = len(cum_sum)\n",
    "plt.plot(np.linspace(0,1,n_users), cum_sum/cum_sum.iloc[-1], color='g', label='London')\n",
    "\n",
    "user_counts = angeles_df.groupby(by='user_id').count()['id']\n",
    "cum_sum = np.cumsum(user_counts.sort_values())\n",
    "n_users = len(cum_sum)\n",
    "plt.plot(np.linspace(0,1,n_users), cum_sum/cum_sum.iloc[-1], color='r',label='Los Angeles')\n",
    "\n",
    "user_counts = francisco_df.groupby(by='user_id').count()['id']\n",
    "cum_sum = np.cumsum(user_counts.sort_values())\n",
    "n_users = len(cum_sum)\n",
    "plt.plot(np.linspace(0,1,n_users), cum_sum/cum_sum.iloc[-1], color='b', label='San Fransisco')\n",
    "\n",
    "from matplotlib.ticker import PercentFormatter\n",
    "plt.gca().xaxis.set_major_formatter(PercentFormatter(xmax=1))\n",
    "plt.gca().yaxis.set_major_formatter(PercentFormatter(xmax=1))\n",
    "plt.title('Contribution across different cities ')\n",
    "plt.xlabel(\"Percentage of users (sorted by contributions)\")\n",
    "plt.ylabel(\"Percentage of observations\")\n",
    "plt.legend()\n",
    "\n",
    "quintiles = [50, 90, 99]\n",
    "total_obs = cum_sum.iloc[-1]\n",
    "for q in quintiles:\n",
    "    obs = (total_obs - np.percentile(cum_sum, q=q))/total_obs\n",
    "    print(\"Top {}% of users contribute {:.0%} of observations\".format(100-q, obs))\n",
    "plt.show()"
   ]
  },
  {
   "cell_type": "code",
   "execution_count": 26,
   "id": "ef9437d0",
   "metadata": {},
   "outputs": [
    {
     "name": "stdout",
     "output_type": "stream",
     "text": [
      "Top 50% of users contribute 96% of observations\n",
      "Top 10% of users contribute 71% of observations\n",
      "Top 1% of users contribute 31% of observations\n"
     ]
    },
    {
     "data": {
      "image/png": "[encoded data removed]",
      "text/plain": [
       "<Figure size 288x201.6 with 1 Axes>"
      ]
     },
     "metadata": {
      "needs_background": "light"
     },
     "output_type": "display_data"
    }
   ],
   "source": [
    "fig = plt.figure(figsize=(4,2.8))\n",
    "user_counts = london_df.groupby(by='user_id').count()['id']\n",
    "cum_sum = np.cumsum(user_counts.sort_values())\n",
    "n_users = len(cum_sum)\n",
    "plt.plot(np.linspace(0,1,n_users), cum_sum/cum_sum.iloc[-1], color='k')\n",
    "from matplotlib.ticker import PercentFormatter\n",
    "plt.gca().xaxis.set_major_formatter(PercentFormatter(xmax=1))\n",
    "plt.gca().yaxis.set_major_formatter(PercentFormatter(xmax=1))\n",
    "plt.title('Contribution - London')\n",
    "plt.xlabel(\"Percentage of users (sorted by contributions)\")\n",
    "plt.ylabel(\"Percentage of observations\")\n",
    "\n",
    "quintiles = [50, 90, 99]\n",
    "total_obs = cum_sum.iloc[-1]\n",
    "for q in quintiles:\n",
    "    obs = (total_obs - np.percentile(cum_sum, q=q))/total_obs\n",
    "    print(\"Top {}% of users contribute {:.0%} of observations\".format(100-q, obs))\n",
    "plt.show()"
   ]
  },
  {
   "cell_type": "code",
   "execution_count": 29,
   "id": "02a931e4",
   "metadata": {},
   "outputs": [
    {
     "name": "stdout",
     "output_type": "stream",
     "text": [
      "Top 50% of users contribute 97% of observations\n",
      "Top 10% of users contribute 76% of observations\n",
      "Top 1% of users contribute 40% of observations\n"
     ]
    },
    {
     "data": {
      "image/png": "[encoded data removed]",
      "text/plain": [
       "<Figure size 288x201.6 with 1 Axes>"
      ]
     },
     "metadata": {
      "needs_background": "light"
     },
     "output_type": "display_data"
    }
   ],
   "source": [
    "fig = plt.figure(figsize=(4,2.8))\n",
    "user_counts = angeles_df.groupby(by='user_id').count()['id']\n",
    "cum_sum = np.cumsum(user_counts.sort_values())\n",
    "n_users = len(cum_sum)\n",
    "plt.plot(np.linspace(0,1,n_users), cum_sum/cum_sum.iloc[-1], color='k')\n",
    "from matplotlib.ticker import PercentFormatter\n",
    "plt.gca().xaxis.set_major_formatter(PercentFormatter(xmax=1))\n",
    "plt.gca().yaxis.set_major_formatter(PercentFormatter(xmax=1))\n",
    "plt.title('Contribution - Los Angeles')\n",
    "plt.xlabel(\"Percentage of users (sorted by contributions)\")\n",
    "plt.ylabel(\"Percentage of observations\")\n",
    "\n",
    "quintiles = [50, 90, 99]\n",
    "total_obs = cum_sum.iloc[-1]\n",
    "for q in quintiles:\n",
    "    obs = (total_obs - np.percentile(cum_sum, q=q))/total_obs\n",
    "    print(\"Top {}% of users contribute {:.0%} of observations\".format(100-q, obs))\n",
    "plt.show()"
   ]
  },
  {
   "cell_type": "code",
   "execution_count": 30,
   "id": "1a2c1bb4",
   "metadata": {},
   "outputs": [
    {
     "name": "stdout",
     "output_type": "stream",
     "text": [
      "Top 50% of users contribute 97% of observations\n",
      "Top 10% of users contribute 75% of observations\n",
      "Top 1% of users contribute 37% of observations\n"
     ]
    },
    {
     "data": {
      "image/png": "[encoded data removed]",
      "text/plain": [
       "<Figure size 288x201.6 with 1 Axes>"
      ]
     },
     "metadata": {
      "needs_background": "light"
     },
     "output_type": "display_data"
    }
   ],
   "source": [
    "fig = plt.figure(figsize=(4,2.8))\n",
    "user_counts = francisco_df.groupby(by='user_id').count()['id']\n",
    "cum_sum = np.cumsum(user_counts.sort_values())\n",
    "n_users = len(cum_sum)\n",
    "plt.plot(np.linspace(0,1,n_users), cum_sum/cum_sum.iloc[-1], color='k')\n",
    "from matplotlib.ticker import PercentFormatter\n",
    "plt.gca().xaxis.set_major_formatter(PercentFormatter(xmax=1))\n",
    "plt.gca().yaxis.set_major_formatter(PercentFormatter(xmax=1))\n",
    "plt.title('Contribution - San Fransisco')\n",
    "plt.xlabel(\"Percentage of users (sorted by contributions)\")\n",
    "plt.ylabel(\"Percentage of observations\")\n",
    "\n",
    "quintiles = [50, 90, 99]\n",
    "total_obs = cum_sum.iloc[-1]\n",
    "for q in quintiles:\n",
    "    obs = (total_obs - np.percentile(cum_sum, q=q))/total_obs\n",
    "    print(\"Top {}% of users contribute {:.0%} of observations\".format(100-q, obs))\n",
    "plt.show()"
   ]
  },
  {
   "cell_type": "code",
   "execution_count": null,
   "id": "5390c22b",
   "metadata": {},
   "outputs": [],
   "source": []
  }
 ],
 "metadata": {
  "kernelspec": {
   "display_name": "Python 3",
   "language": "python",
   "name": "python3"
  },
  "language_info": {
   "codemirror_mode": {
    "name": "ipython",
    "version": 3
   },
   "file_extension": ".py",
   "mimetype": "text/x-python",
   "name": "python",
   "nbconvert_exporter": "python",
   "pygments_lexer": "ipython3",
   "version": "3.8.8"
  }
 },
 "nbformat": 4,
 "nbformat_minor": 5
}
